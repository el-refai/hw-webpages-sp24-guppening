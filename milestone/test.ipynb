{
 "cells": [
  {
   "cell_type": "code",
   "execution_count": 13,
   "metadata": {},
   "outputs": [],
   "source": [
    "import skimage as sk\n",
    "import skimage.io as skio\n",
    "import imageio\n",
    "import numpy as np"
   ]
  },
  {
   "cell_type": "code",
   "execution_count": 6,
   "metadata": {},
   "outputs": [],
   "source": [
    "gt_ims, render_ims = [], []\n",
    "for i in range(20):\n",
    "    if i < 10:\n",
    "        gt_ims.append(skio.imread(f\"images/gt/0000{i}.png\"))\n",
    "        render_ims.append(skio.imread(f\"images/renders/0000{i}.png\"))\n",
    "    else:\n",
    "        gt_ims.append(skio.imread(f\"images/gt/000{i}.png\"))\n",
    "        render_ims.append(skio.imread(f\"images/renders/000{i}.png\"))"
   ]
  },
  {
   "cell_type": "code",
   "execution_count": 11,
   "metadata": {},
   "outputs": [],
   "source": [
    "for i in range(4):\n",
    "    skio.imsave(f\"4dg_stack_comparison_{i}.png\", np.hstack([np.vstack(gt_ims[i*5:i*5 + 5]), np.vstack(render_ims[i*5:i*5 + 5])]))"
   ]
  },
  {
   "cell_type": "code",
   "execution_count": 16,
   "metadata": {},
   "outputs": [],
   "source": [
    "for layer in range(1, 4):\n",
    "    gt_ims, render_ims = [], []\n",
    "    for i in range(20):\n",
    "        if i < 10:\n",
    "            gt_ims.append(skio.imread(f\"images/langsplat/l{layer}embed/gt/0000{i}.png\"))\n",
    "            render_ims.append(skio.imread(f\"images/langsplat/l{layer}embed/renders/0000{i}.png\"))\n",
    "        else:\n",
    "            gt_ims.append(skio.imread(f\"images/langsplat/l{layer}embed/gt/000{i}.png\"))\n",
    "            render_ims.append(skio.imread(f\"images/langsplat/l{layer}embed/renders/000{i}.png\"))\n",
    "\n",
    "    imageio.mimsave(f\"langsplat_l{layer}_gt.gif\", gt_ims, duration=200, loop=0)\n",
    "    imageio.mimsave(f\"langsplat_l{layer}_render.gif\", render_ims, duration=200, loop=0)"
   ]
  }
 ],
 "metadata": {
  "kernelspec": {
   "display_name": "Python 3",
   "language": "python",
   "name": "python3"
  },
  "language_info": {
   "codemirror_mode": {
    "name": "ipython",
    "version": 3
   },
   "file_extension": ".py",
   "mimetype": "text/x-python",
   "name": "python",
   "nbconvert_exporter": "python",
   "pygments_lexer": "ipython3",
   "version": "3.11.5"
  }
 },
 "nbformat": 4,
 "nbformat_minor": 2
}
